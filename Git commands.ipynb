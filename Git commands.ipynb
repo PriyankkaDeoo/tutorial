{
 "cells": [
  {
   "cell_type": "code",
   "execution_count": null,
   "id": "a0dcc3f7",
   "metadata": {},
   "outputs": [],
   "source": [
    "\n",
    "\n",
    "\n",
    "\n",
    "\n",
    "\n",
    "\n",
    "\n",
    "\n",
    "git log - \n",
    "git config -\n",
    "git config --global user.name Yourname = register ur name\n",
    "git config --global user.email Youremail = register ur email\n",
    "git config --global user.username Yourusername =  register ur username\n",
    "git config --global user.name = to check your name\n",
    "git config --global user.email = to check your email id\n",
    "git config --global user.username = to check your username"
   ]
  }
 ],
 "metadata": {
  "kernelspec": {
   "display_name": "Python 3 (ipykernel)",
   "language": "python",
   "name": "python3"
  },
  "language_info": {
   "codemirror_mode": {
    "name": "ipython",
    "version": 3
   },
   "file_extension": ".py",
   "mimetype": "text/x-python",
   "name": "python",
   "nbconvert_exporter": "python",
   "pygments_lexer": "ipython3",
   "version": "3.10.4"
  }
 },
 "nbformat": 4,
 "nbformat_minor": 5
}
